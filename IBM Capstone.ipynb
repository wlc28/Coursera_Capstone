{
 "cells": [
  {
   "cell_type": "markdown",
   "metadata": {},
   "source": [
    "# Capstone Project - Car Accident Severity\n",
    "#### Applied Data Science Capstone by IBM/Coursera"
   ]
  },
  {
   "cell_type": "markdown",
   "metadata": {},
   "source": [
    "## Business Understanding"
   ]
  },
  {
   "cell_type": "markdown",
   "metadata": {},
   "source": [
    "We have to predict the severity of accident based on historical crash date. There are total 38 columns, 1 of which is the severity itself. \n",
    "\n",
    "The Seattle government is trying to ascertain what causes car crashes in order to mitigate against future crashes. The idea is to prevent crashes that are otherwise avoidable by introducing policies and procedures that focus or specific circumstances to alert relevant stakeholders (police, drivers etc) about the current risk.\n",
    "\n",
    "The stakeholders of this project would be local government, blue light services and insurers. The results will be used to ensure optimum pricing of insurance and to try to reduce number of road traffic accidents in the city."
   ]
  },
  {
   "cell_type": "markdown",
   "metadata": {},
   "source": [
    "## Data"
   ]
  },
  {
   "cell_type": "markdown",
   "metadata": {},
   "source": [
    "The data was collected by the Seattle Police Department and Accident Traffic Records Department from 2004 to recent.\n",
    "\n",
    "The data consists of 37 independent variables and 194,673 rows. The dependent variable, “SEVERITYCODE”, contains numbers that correspond to different levels of severity caused by an accident.\n",
    "\n",
    "Severity codes are as follows:\n",
    "\n",
    "0: Little to no Probability (Clear Conditions)\n",
    "\n",
    "1: Very Low Probability — Chance or Property Damage\n",
    "\n",
    "2: Low Probability — Chance of Injury\n",
    "\n",
    "3: Mild Probability — Chance of Serious Injury\n",
    "\n",
    "4: High Probability — Chance of Fatality\n",
    "\n",
    "Initial exploratory analysis shows that may of the columns have null data. Furthermore, there are no severity codes greater than 2 in the data set."
   ]
  },
  {
   "cell_type": "code",
   "execution_count": 1,
   "metadata": {},
   "outputs": [],
   "source": [
    "#  Import Libraries\n",
    "\n",
    "import numpy as np \n",
    "import pandas as pd \n",
    "import seaborn as sns \n",
    "import matplotlib.pyplot as plt"
   ]
  },
  {
   "cell_type": "code",
   "execution_count": 2,
   "metadata": {},
   "outputs": [
    {
     "name": "stderr",
     "output_type": "stream",
     "text": [
      "C:\\Users\\warren.clegg\\Anaconda3\\lib\\site-packages\\IPython\\core\\interactiveshell.py:3020: DtypeWarning: Columns (33) have mixed types.Specify dtype option on import or set low_memory=False.\n",
      "  interactivity=interactivity, compiler=compiler, result=result)\n"
     ]
    }
   ],
   "source": [
    "# Read Data\n",
    "\n",
    "df=pd.read_csv(\"Data-Collisions.csv\")"
   ]
  },
  {
   "cell_type": "code",
   "execution_count": 3,
   "metadata": {},
   "outputs": [
    {
     "name": "stdout",
     "output_type": "stream",
     "text": [
      "<class 'pandas.core.frame.DataFrame'>\n",
      "RangeIndex: 194673 entries, 0 to 194672\n",
      "Data columns (total 38 columns):\n",
      " #   Column          Non-Null Count   Dtype  \n",
      "---  ------          --------------   -----  \n",
      " 0   SEVERITYCODE    194673 non-null  int64  \n",
      " 1   X               189339 non-null  float64\n",
      " 2   Y               189339 non-null  float64\n",
      " 3   OBJECTID        194673 non-null  int64  \n",
      " 4   INCKEY          194673 non-null  int64  \n",
      " 5   COLDETKEY       194673 non-null  int64  \n",
      " 6   REPORTNO        194673 non-null  object \n",
      " 7   STATUS          194673 non-null  object \n",
      " 8   ADDRTYPE        192747 non-null  object \n",
      " 9   INTKEY          65070 non-null   float64\n",
      " 10  LOCATION        191996 non-null  object \n",
      " 11  EXCEPTRSNCODE   84811 non-null   object \n",
      " 12  EXCEPTRSNDESC   5638 non-null    object \n",
      " 13  SEVERITYCODE.1  194673 non-null  int64  \n",
      " 14  SEVERITYDESC    194673 non-null  object \n",
      " 15  COLLISIONTYPE   189769 non-null  object \n",
      " 16  PERSONCOUNT     194673 non-null  int64  \n",
      " 17  PEDCOUNT        194673 non-null  int64  \n",
      " 18  PEDCYLCOUNT     194673 non-null  int64  \n",
      " 19  VEHCOUNT        194673 non-null  int64  \n",
      " 20  INCDATE         194673 non-null  object \n",
      " 21  INCDTTM         194673 non-null  object \n",
      " 22  JUNCTIONTYPE    188344 non-null  object \n",
      " 23  SDOT_COLCODE    194673 non-null  int64  \n",
      " 24  SDOT_COLDESC    194673 non-null  object \n",
      " 25  INATTENTIONIND  29805 non-null   object \n",
      " 26  UNDERINFL       189789 non-null  object \n",
      " 27  WEATHER         189592 non-null  object \n",
      " 28  ROADCOND        189661 non-null  object \n",
      " 29  LIGHTCOND       189503 non-null  object \n",
      " 30  PEDROWNOTGRNT   4667 non-null    object \n",
      " 31  SDOTCOLNUM      114936 non-null  float64\n",
      " 32  SPEEDING        9333 non-null    object \n",
      " 33  ST_COLCODE      194655 non-null  object \n",
      " 34  ST_COLDESC      189769 non-null  object \n",
      " 35  SEGLANEKEY      194673 non-null  int64  \n",
      " 36  CROSSWALKKEY    194673 non-null  int64  \n",
      " 37  HITPARKEDCAR    194673 non-null  object \n",
      "dtypes: float64(4), int64(12), object(22)\n",
      "memory usage: 56.4+ MB\n"
     ]
    }
   ],
   "source": [
    "# Try to get an understanding of the data\n",
    "\n",
    "df.info()"
   ]
  },
  {
   "cell_type": "markdown",
   "metadata": {},
   "source": [
    "This shows quite a few categorical data which may need to be transformed later"
   ]
  },
  {
   "cell_type": "code",
   "execution_count": 4,
   "metadata": {},
   "outputs": [
    {
     "data": {
      "text/plain": [
       "SEVERITYCODE           2\n",
       "X                  23563\n",
       "Y                  23839\n",
       "OBJECTID          194673\n",
       "INCKEY            194673\n",
       "COLDETKEY         194673\n",
       "REPORTNO          194670\n",
       "STATUS                 2\n",
       "ADDRTYPE               3\n",
       "INTKEY              7614\n",
       "LOCATION           24102\n",
       "EXCEPTRSNCODE          2\n",
       "EXCEPTRSNDESC          1\n",
       "SEVERITYCODE.1         2\n",
       "SEVERITYDESC           2\n",
       "COLLISIONTYPE         10\n",
       "PERSONCOUNT           47\n",
       "PEDCOUNT               7\n",
       "PEDCYLCOUNT            3\n",
       "VEHCOUNT              13\n",
       "INCDATE             5985\n",
       "INCDTTM           162058\n",
       "JUNCTIONTYPE           7\n",
       "SDOT_COLCODE          39\n",
       "SDOT_COLDESC          39\n",
       "INATTENTIONIND         1\n",
       "UNDERINFL              4\n",
       "WEATHER               11\n",
       "ROADCOND               9\n",
       "LIGHTCOND              9\n",
       "PEDROWNOTGRNT          1\n",
       "SDOTCOLNUM        114932\n",
       "SPEEDING               1\n",
       "ST_COLCODE           115\n",
       "ST_COLDESC            62\n",
       "SEGLANEKEY          1955\n",
       "CROSSWALKKEY        2198\n",
       "HITPARKEDCAR           2\n",
       "dtype: int64"
      ]
     },
     "execution_count": 4,
     "metadata": {},
     "output_type": "execute_result"
    }
   ],
   "source": [
    "# See how many variables for each attribute\n",
    "\n",
    "df.nunique()"
   ]
  },
  {
   "cell_type": "markdown",
   "metadata": {},
   "source": [
    "This shows that a few attributes only have a few possible categories/values and may be simplier to use to explain the model"
   ]
  },
  {
   "cell_type": "code",
   "execution_count": 5,
   "metadata": {},
   "outputs": [
    {
     "data": {
      "text/plain": [
       "SEVERITYCODE           0\n",
       "X                   5334\n",
       "Y                   5334\n",
       "OBJECTID               0\n",
       "INCKEY                 0\n",
       "COLDETKEY              0\n",
       "REPORTNO               0\n",
       "STATUS                 0\n",
       "ADDRTYPE            1926\n",
       "INTKEY            129603\n",
       "LOCATION            2677\n",
       "EXCEPTRSNCODE     109862\n",
       "EXCEPTRSNDESC     189035\n",
       "SEVERITYCODE.1         0\n",
       "SEVERITYDESC           0\n",
       "COLLISIONTYPE       4904\n",
       "PERSONCOUNT            0\n",
       "PEDCOUNT               0\n",
       "PEDCYLCOUNT            0\n",
       "VEHCOUNT               0\n",
       "INCDATE                0\n",
       "INCDTTM                0\n",
       "JUNCTIONTYPE        6329\n",
       "SDOT_COLCODE           0\n",
       "SDOT_COLDESC           0\n",
       "INATTENTIONIND    164868\n",
       "UNDERINFL           4884\n",
       "WEATHER             5081\n",
       "ROADCOND            5012\n",
       "LIGHTCOND           5170\n",
       "PEDROWNOTGRNT     190006\n",
       "SDOTCOLNUM         79737\n",
       "SPEEDING          185340\n",
       "ST_COLCODE            18\n",
       "ST_COLDESC          4904\n",
       "SEGLANEKEY             0\n",
       "CROSSWALKKEY           0\n",
       "HITPARKEDCAR           0\n",
       "dtype: int64"
      ]
     },
     "execution_count": 5,
     "metadata": {},
     "output_type": "execute_result"
    }
   ],
   "source": [
    "#Find total number of missing values in the data\n",
    "\n",
    "df.isna().sum()"
   ]
  },
  {
   "cell_type": "markdown",
   "metadata": {},
   "source": [
    "This demonstrates quite a few data attributes may not be that useful due to limited number of points; e.g., SPEEDING"
   ]
  },
  {
   "cell_type": "code",
   "execution_count": 6,
   "metadata": {},
   "outputs": [
    {
     "data": {
      "text/html": [
       "<div>\n",
       "<style scoped>\n",
       "    .dataframe tbody tr th:only-of-type {\n",
       "        vertical-align: middle;\n",
       "    }\n",
       "\n",
       "    .dataframe tbody tr th {\n",
       "        vertical-align: top;\n",
       "    }\n",
       "\n",
       "    .dataframe thead th {\n",
       "        text-align: right;\n",
       "    }\n",
       "</style>\n",
       "<table border=\"1\" class=\"dataframe\">\n",
       "  <thead>\n",
       "    <tr style=\"text-align: right;\">\n",
       "      <th></th>\n",
       "      <th>SEVERITYCODE</th>\n",
       "      <th>X</th>\n",
       "      <th>Y</th>\n",
       "      <th>OBJECTID</th>\n",
       "      <th>INCKEY</th>\n",
       "      <th>COLDETKEY</th>\n",
       "      <th>INTKEY</th>\n",
       "      <th>SEVERITYCODE.1</th>\n",
       "      <th>PERSONCOUNT</th>\n",
       "      <th>PEDCOUNT</th>\n",
       "      <th>PEDCYLCOUNT</th>\n",
       "      <th>VEHCOUNT</th>\n",
       "      <th>SDOT_COLCODE</th>\n",
       "      <th>SDOTCOLNUM</th>\n",
       "      <th>SEGLANEKEY</th>\n",
       "      <th>CROSSWALKKEY</th>\n",
       "    </tr>\n",
       "  </thead>\n",
       "  <tbody>\n",
       "    <tr>\n",
       "      <th>count</th>\n",
       "      <td>194673.000000</td>\n",
       "      <td>189339.000000</td>\n",
       "      <td>189339.000000</td>\n",
       "      <td>194673.000000</td>\n",
       "      <td>194673.000000</td>\n",
       "      <td>194673.000000</td>\n",
       "      <td>65070.000000</td>\n",
       "      <td>194673.000000</td>\n",
       "      <td>194673.000000</td>\n",
       "      <td>194673.000000</td>\n",
       "      <td>194673.000000</td>\n",
       "      <td>194673.000000</td>\n",
       "      <td>194673.000000</td>\n",
       "      <td>1.149360e+05</td>\n",
       "      <td>194673.000000</td>\n",
       "      <td>1.946730e+05</td>\n",
       "    </tr>\n",
       "    <tr>\n",
       "      <th>mean</th>\n",
       "      <td>1.298901</td>\n",
       "      <td>-122.330518</td>\n",
       "      <td>47.619543</td>\n",
       "      <td>108479.364930</td>\n",
       "      <td>141091.456350</td>\n",
       "      <td>141298.811381</td>\n",
       "      <td>37558.450576</td>\n",
       "      <td>1.298901</td>\n",
       "      <td>2.444427</td>\n",
       "      <td>0.037139</td>\n",
       "      <td>0.028391</td>\n",
       "      <td>1.920780</td>\n",
       "      <td>13.867768</td>\n",
       "      <td>7.972521e+06</td>\n",
       "      <td>269.401114</td>\n",
       "      <td>9.782452e+03</td>\n",
       "    </tr>\n",
       "    <tr>\n",
       "      <th>std</th>\n",
       "      <td>0.457778</td>\n",
       "      <td>0.029976</td>\n",
       "      <td>0.056157</td>\n",
       "      <td>62649.722558</td>\n",
       "      <td>86634.402737</td>\n",
       "      <td>86986.542110</td>\n",
       "      <td>51745.990273</td>\n",
       "      <td>0.457778</td>\n",
       "      <td>1.345929</td>\n",
       "      <td>0.198150</td>\n",
       "      <td>0.167413</td>\n",
       "      <td>0.631047</td>\n",
       "      <td>6.868755</td>\n",
       "      <td>2.553533e+06</td>\n",
       "      <td>3315.776055</td>\n",
       "      <td>7.226926e+04</td>\n",
       "    </tr>\n",
       "    <tr>\n",
       "      <th>min</th>\n",
       "      <td>1.000000</td>\n",
       "      <td>-122.419091</td>\n",
       "      <td>47.495573</td>\n",
       "      <td>1.000000</td>\n",
       "      <td>1001.000000</td>\n",
       "      <td>1001.000000</td>\n",
       "      <td>23807.000000</td>\n",
       "      <td>1.000000</td>\n",
       "      <td>0.000000</td>\n",
       "      <td>0.000000</td>\n",
       "      <td>0.000000</td>\n",
       "      <td>0.000000</td>\n",
       "      <td>0.000000</td>\n",
       "      <td>1.007024e+06</td>\n",
       "      <td>0.000000</td>\n",
       "      <td>0.000000e+00</td>\n",
       "    </tr>\n",
       "    <tr>\n",
       "      <th>25%</th>\n",
       "      <td>1.000000</td>\n",
       "      <td>-122.348673</td>\n",
       "      <td>47.575956</td>\n",
       "      <td>54267.000000</td>\n",
       "      <td>70383.000000</td>\n",
       "      <td>70383.000000</td>\n",
       "      <td>28667.000000</td>\n",
       "      <td>1.000000</td>\n",
       "      <td>2.000000</td>\n",
       "      <td>0.000000</td>\n",
       "      <td>0.000000</td>\n",
       "      <td>2.000000</td>\n",
       "      <td>11.000000</td>\n",
       "      <td>6.040015e+06</td>\n",
       "      <td>0.000000</td>\n",
       "      <td>0.000000e+00</td>\n",
       "    </tr>\n",
       "    <tr>\n",
       "      <th>50%</th>\n",
       "      <td>1.000000</td>\n",
       "      <td>-122.330224</td>\n",
       "      <td>47.615369</td>\n",
       "      <td>106912.000000</td>\n",
       "      <td>123363.000000</td>\n",
       "      <td>123363.000000</td>\n",
       "      <td>29973.000000</td>\n",
       "      <td>1.000000</td>\n",
       "      <td>2.000000</td>\n",
       "      <td>0.000000</td>\n",
       "      <td>0.000000</td>\n",
       "      <td>2.000000</td>\n",
       "      <td>13.000000</td>\n",
       "      <td>8.023022e+06</td>\n",
       "      <td>0.000000</td>\n",
       "      <td>0.000000e+00</td>\n",
       "    </tr>\n",
       "    <tr>\n",
       "      <th>75%</th>\n",
       "      <td>2.000000</td>\n",
       "      <td>-122.311937</td>\n",
       "      <td>47.663664</td>\n",
       "      <td>162272.000000</td>\n",
       "      <td>203319.000000</td>\n",
       "      <td>203459.000000</td>\n",
       "      <td>33973.000000</td>\n",
       "      <td>2.000000</td>\n",
       "      <td>3.000000</td>\n",
       "      <td>0.000000</td>\n",
       "      <td>0.000000</td>\n",
       "      <td>2.000000</td>\n",
       "      <td>14.000000</td>\n",
       "      <td>1.015501e+07</td>\n",
       "      <td>0.000000</td>\n",
       "      <td>0.000000e+00</td>\n",
       "    </tr>\n",
       "    <tr>\n",
       "      <th>max</th>\n",
       "      <td>2.000000</td>\n",
       "      <td>-122.238949</td>\n",
       "      <td>47.734142</td>\n",
       "      <td>219547.000000</td>\n",
       "      <td>331454.000000</td>\n",
       "      <td>332954.000000</td>\n",
       "      <td>757580.000000</td>\n",
       "      <td>2.000000</td>\n",
       "      <td>81.000000</td>\n",
       "      <td>6.000000</td>\n",
       "      <td>2.000000</td>\n",
       "      <td>12.000000</td>\n",
       "      <td>69.000000</td>\n",
       "      <td>1.307202e+07</td>\n",
       "      <td>525241.000000</td>\n",
       "      <td>5.239700e+06</td>\n",
       "    </tr>\n",
       "  </tbody>\n",
       "</table>\n",
       "</div>"
      ],
      "text/plain": [
       "        SEVERITYCODE              X              Y       OBJECTID  \\\n",
       "count  194673.000000  189339.000000  189339.000000  194673.000000   \n",
       "mean        1.298901    -122.330518      47.619543  108479.364930   \n",
       "std         0.457778       0.029976       0.056157   62649.722558   \n",
       "min         1.000000    -122.419091      47.495573       1.000000   \n",
       "25%         1.000000    -122.348673      47.575956   54267.000000   \n",
       "50%         1.000000    -122.330224      47.615369  106912.000000   \n",
       "75%         2.000000    -122.311937      47.663664  162272.000000   \n",
       "max         2.000000    -122.238949      47.734142  219547.000000   \n",
       "\n",
       "              INCKEY      COLDETKEY         INTKEY  SEVERITYCODE.1  \\\n",
       "count  194673.000000  194673.000000   65070.000000   194673.000000   \n",
       "mean   141091.456350  141298.811381   37558.450576        1.298901   \n",
       "std     86634.402737   86986.542110   51745.990273        0.457778   \n",
       "min      1001.000000    1001.000000   23807.000000        1.000000   \n",
       "25%     70383.000000   70383.000000   28667.000000        1.000000   \n",
       "50%    123363.000000  123363.000000   29973.000000        1.000000   \n",
       "75%    203319.000000  203459.000000   33973.000000        2.000000   \n",
       "max    331454.000000  332954.000000  757580.000000        2.000000   \n",
       "\n",
       "         PERSONCOUNT       PEDCOUNT    PEDCYLCOUNT       VEHCOUNT  \\\n",
       "count  194673.000000  194673.000000  194673.000000  194673.000000   \n",
       "mean        2.444427       0.037139       0.028391       1.920780   \n",
       "std         1.345929       0.198150       0.167413       0.631047   \n",
       "min         0.000000       0.000000       0.000000       0.000000   \n",
       "25%         2.000000       0.000000       0.000000       2.000000   \n",
       "50%         2.000000       0.000000       0.000000       2.000000   \n",
       "75%         3.000000       0.000000       0.000000       2.000000   \n",
       "max        81.000000       6.000000       2.000000      12.000000   \n",
       "\n",
       "        SDOT_COLCODE    SDOTCOLNUM     SEGLANEKEY  CROSSWALKKEY  \n",
       "count  194673.000000  1.149360e+05  194673.000000  1.946730e+05  \n",
       "mean       13.867768  7.972521e+06     269.401114  9.782452e+03  \n",
       "std         6.868755  2.553533e+06    3315.776055  7.226926e+04  \n",
       "min         0.000000  1.007024e+06       0.000000  0.000000e+00  \n",
       "25%        11.000000  6.040015e+06       0.000000  0.000000e+00  \n",
       "50%        13.000000  8.023022e+06       0.000000  0.000000e+00  \n",
       "75%        14.000000  1.015501e+07       0.000000  0.000000e+00  \n",
       "max        69.000000  1.307202e+07  525241.000000  5.239700e+06  "
      ]
     },
     "execution_count": 6,
     "metadata": {},
     "output_type": "execute_result"
    }
   ],
   "source": [
    "#  Get summary statistics for the data\n",
    "\n",
    "df.describe()"
   ]
  },
  {
   "cell_type": "markdown",
   "metadata": {},
   "source": [
    "This shows there are limited range for x and y values suggesting in city centre.   SEVERITYCODE.1 seems to be a duplicate of SEVERITY CODE."
   ]
  },
  {
   "cell_type": "code",
   "execution_count": 7,
   "metadata": {},
   "outputs": [
    {
     "data": {
      "text/plain": [
       "<matplotlib.axes._subplots.AxesSubplot at 0x2322ad4bd68>"
      ]
     },
     "execution_count": 7,
     "metadata": {},
     "output_type": "execute_result"
    },
    {
     "data": {
      "image/png": "[encoded data removed]",
      "text/plain": [
       "<Figure size 432x288 with 2 Axes>"
      ]
     },
     "metadata": {
      "needs_background": "light"
     },
     "output_type": "display_data"
    }
   ],
   "source": [
    "# Ascertain the correlations between the variables\n",
    "\n",
    "corr = df.corr()\n",
    "sns.heatmap(corr, xticklabels=corr.columns, yticklabels=corr.columns, cmap='coolwarm')"
   ]
  },
  {
   "cell_type": "markdown",
   "metadata": {},
   "source": [
    "This confirms SEVERITYCODE.1 is a duplicate of SEVERITY CODE.  Strong correltation between OBJECTID, INCKEY and COLDETKEY but these are not useful to the analysis as unique identifies."
   ]
  },
  {
   "cell_type": "code",
   "execution_count": 8,
   "metadata": {},
   "outputs": [
    {
     "data": {
      "text/plain": [
       "<matplotlib.axes._subplots.AxesSubplot at 0x232287f9358>"
      ]
     },
     "execution_count": 8,
     "metadata": {},
     "output_type": "execute_result"
    },
    {
     "data": {
      "image/png": "[encoded data removed]",
      "text/plain": [
       "<Figure size 432x288 with 1 Axes>"
      ]
     },
     "metadata": {
      "needs_background": "light"
     },
     "output_type": "display_data"
    }
   ],
   "source": [
    "# Determine the NULL Values\n",
    "\n",
    "sns.heatmap(df.isnull(), cbar=False)"
   ]
  },
  {
   "cell_type": "markdown",
   "metadata": {},
   "source": [
    "This verifies that SPEEDING and other attributes do not have enough data to be meaningful"
   ]
  },
  {
   "cell_type": "code",
   "execution_count": 9,
   "metadata": {},
   "outputs": [
    {
     "name": "stderr",
     "output_type": "stream",
     "text": [
      "C:\\Users\\warren.clegg\\Anaconda3\\lib\\site-packages\\scipy\\stats\\stats.py:1713: FutureWarning: Using a non-tuple sequence for multidimensional indexing is deprecated; use `arr[tuple(seq)]` instead of `arr[seq]`. In the future this will be interpreted as an array index, `arr[np.array(seq)]`, which will result either in an error or a different result.\n",
      "  return np.add.reduce(sorted[indexer] * weights, axis=axis) / sumval\n"
     ]
    },
    {
     "data": {
      "text/plain": [
       "<seaborn.axisgrid.JointGrid at 0x23228a747b8>"
      ]
     },
     "execution_count": 9,
     "metadata": {},
     "output_type": "execute_result"
    },
    {
     "data": {
      "image/png": "[encoded data removed]",
      "text/plain": [
       "<Figure size 432x432 with 3 Axes>"
      ]
     },
     "metadata": {
      "needs_background": "light"
     },
     "output_type": "display_data"
    }
   ],
   "source": [
    "#  This shows the x,y coordinates for the crashes and plots them as a KDE\n",
    "\n",
    "sns.jointplot(data=df, x=\"X\", y=\"Y\", kind=\"kde\")"
   ]
  },
  {
   "cell_type": "markdown",
   "metadata": {},
   "source": [
    "This shows that the majority of accidents happen in a set area.   This information is useful as it shows the authorities where they need to patrol or add trafic calming measures."
   ]
  },
  {
   "cell_type": "code",
   "execution_count": null,
   "metadata": {},
   "outputs": [],
   "source": [
    "#Using maps to visualise the data\n",
    "\n",
    "import folium\n",
    "from folium.plugins import HeatMap\n",
    "\n",
    "heat_df = df[[\"X\", \"Y\"]].dropna()\n",
    "\n",
    "map_s = folium.Map(location=[47.6062, -122.3321], zoom_start=16)\n",
    "\n",
    "heat_data = [[row['Y'],row['X']] for index, row in heat_df.iterrows()]\n",
    "HeatMap(heat_data).add_to(map_s)\n",
    "map_s"
   ]
  },
  {
   "cell_type": "markdown",
   "metadata": {},
   "source": [
    "This shows where the data is located on a map of Seattle. "
   ]
  },
  {
   "cell_type": "markdown",
   "metadata": {},
   "source": [
    "## Methodology"
   ]
  },
  {
   "cell_type": "markdown",
   "metadata": {},
   "source": [
    "First we ensure that we have a comparable number of SEVERITY codes 1 and 2.  If not we re-sample the data."
   ]
  },
  {
   "cell_type": "code",
   "execution_count": 12,
   "metadata": {},
   "outputs": [
    {
     "data": {
      "text/plain": [
       "1    136485\n",
       "2     58188\n",
       "Name: SEVERITYCODE, dtype: int64"
      ]
     },
     "execution_count": 12,
     "metadata": {},
     "output_type": "execute_result"
    }
   ],
   "source": [
    "df[\"SEVERITYCODE\"].value_counts()"
   ]
  },
  {
   "cell_type": "markdown",
   "metadata": {},
   "source": [
    "We can see that there is not enough SEVERITY codes 2 so we re-sample."
   ]
  },
  {
   "cell_type": "code",
   "execution_count": 13,
   "metadata": {},
   "outputs": [
    {
     "data": {
      "text/plain": [
       "2    58188\n",
       "1    58188\n",
       "Name: SEVERITYCODE, dtype: int64"
      ]
     },
     "execution_count": 13,
     "metadata": {},
     "output_type": "execute_result"
    }
   ],
   "source": [
    "from sklearn.utils import resample\n",
    "\n",
    "df_a=df[df.SEVERITYCODE ==1]\n",
    "df_b=df[df.SEVERITYCODE ==2]\n",
    "df_c=resample(df_a,replace=False,n_samples=58188,random_state=72)\n",
    "df_n=pd.concat([df_c,df_b])\n",
    "\n",
    "df_n[\"SEVERITYCODE\"].value_counts()"
   ]
  },
  {
   "cell_type": "markdown",
   "metadata": {},
   "source": [
    "Based on the exploratory data analysis and an understanding of the data types from https://s3.us.cloud-object-storage.appdomain.cloud/cf-courses-data/CognitiveClass/DP0701EN/version-2/Metadata.pdf the following attributes will be used to train models:  WEATHER, LIGHTCOND, ROADCOND, X, Y.   The weather, light conditions and road conditions can be predicted the day before so this can be used to predict the severity of crash.  "
   ]
  },
  {
   "cell_type": "markdown",
   "metadata": {},
   "source": [
    "We first need to impute the missing values in the columns.   The median was used for X and Y - both numerical data - wheareas the others used the mode - categorical data."
   ]
  },
  {
   "cell_type": "code",
   "execution_count": 14,
   "metadata": {},
   "outputs": [],
   "source": [
    "#Impute values\n",
    "\n",
    "df[\"X\"] = df[\"X\"].fillna(df[\"X\"].median())\n",
    "df[\"Y\"] = df[\"Y\"].fillna(df[\"Y\"].median())\n",
    "df[\"WEATHER\"] = df[\"WEATHER\"].fillna(df[\"WEATHER\"].mode()[0])\n",
    "df[\"WEATHER\"] = df[\"WEATHER\"].fillna(df[\"WEATHER\"].mode()[0])"
   ]
  },
  {
   "cell_type": "markdown",
   "metadata": {},
   "source": [
    "We now need to bin the X and Y coordinates into buckets in order to make the analysis computationally efficient.  These buckets could be meshed together to suit police patrols if we knew that data - or the distance from a hospital."
   ]
  },
  {
   "cell_type": "code",
   "execution_count": 15,
   "metadata": {},
   "outputs": [
    {
     "data": {
      "text/html": [
       "<div>\n",
       "<style scoped>\n",
       "    .dataframe tbody tr th:only-of-type {\n",
       "        vertical-align: middle;\n",
       "    }\n",
       "\n",
       "    .dataframe tbody tr th {\n",
       "        vertical-align: top;\n",
       "    }\n",
       "\n",
       "    .dataframe thead th {\n",
       "        text-align: right;\n",
       "    }\n",
       "</style>\n",
       "<table border=\"1\" class=\"dataframe\">\n",
       "  <thead>\n",
       "    <tr style=\"text-align: right;\">\n",
       "      <th></th>\n",
       "      <th>SEVERITYCODE</th>\n",
       "      <th>X</th>\n",
       "      <th>Y</th>\n",
       "      <th>OBJECTID</th>\n",
       "      <th>INCKEY</th>\n",
       "      <th>COLDETKEY</th>\n",
       "      <th>REPORTNO</th>\n",
       "      <th>STATUS</th>\n",
       "      <th>ADDRTYPE</th>\n",
       "      <th>INTKEY</th>\n",
       "      <th>...</th>\n",
       "      <th>PEDROWNOTGRNT</th>\n",
       "      <th>SDOTCOLNUM</th>\n",
       "      <th>SPEEDING</th>\n",
       "      <th>ST_COLCODE</th>\n",
       "      <th>ST_COLDESC</th>\n",
       "      <th>SEGLANEKEY</th>\n",
       "      <th>CROSSWALKKEY</th>\n",
       "      <th>HITPARKEDCAR</th>\n",
       "      <th>XBucket</th>\n",
       "      <th>YBucket</th>\n",
       "    </tr>\n",
       "  </thead>\n",
       "  <tbody>\n",
       "    <tr>\n",
       "      <th>166116</th>\n",
       "      <td>1</td>\n",
       "      <td>-122.334288</td>\n",
       "      <td>47.624694</td>\n",
       "      <td>185364</td>\n",
       "      <td>240780</td>\n",
       "      <td>241220</td>\n",
       "      <td>3703903</td>\n",
       "      <td>Matched</td>\n",
       "      <td>Intersection</td>\n",
       "      <td>28760.0</td>\n",
       "      <td>...</td>\n",
       "      <td>NaN</td>\n",
       "      <td>NaN</td>\n",
       "      <td>NaN</td>\n",
       "      <td>14</td>\n",
       "      <td>From same direction - both going straight - on...</td>\n",
       "      <td>0</td>\n",
       "      <td>0</td>\n",
       "      <td>N</td>\n",
       "      <td>9</td>\n",
       "      <td>12</td>\n",
       "    </tr>\n",
       "    <tr>\n",
       "      <th>632</th>\n",
       "      <td>1</td>\n",
       "      <td>-122.328079</td>\n",
       "      <td>47.604161</td>\n",
       "      <td>715</td>\n",
       "      <td>320881</td>\n",
       "      <td>322381</td>\n",
       "      <td>E920857</td>\n",
       "      <td>Matched</td>\n",
       "      <td>Intersection</td>\n",
       "      <td>29973.0</td>\n",
       "      <td>...</td>\n",
       "      <td>NaN</td>\n",
       "      <td>NaN</td>\n",
       "      <td>NaN</td>\n",
       "      <td>14</td>\n",
       "      <td>From same direction - both going straight - on...</td>\n",
       "      <td>0</td>\n",
       "      <td>0</td>\n",
       "      <td>N</td>\n",
       "      <td>11</td>\n",
       "      <td>8</td>\n",
       "    </tr>\n",
       "    <tr>\n",
       "      <th>122470</th>\n",
       "      <td>1</td>\n",
       "      <td>-122.317595</td>\n",
       "      <td>47.698108</td>\n",
       "      <td>136093</td>\n",
       "      <td>156099</td>\n",
       "      <td>156119</td>\n",
       "      <td>3645828</td>\n",
       "      <td>Matched</td>\n",
       "      <td>Block</td>\n",
       "      <td>NaN</td>\n",
       "      <td>...</td>\n",
       "      <td>NaN</td>\n",
       "      <td>NaN</td>\n",
       "      <td>NaN</td>\n",
       "      <td>32</td>\n",
       "      <td>One parked--one moving</td>\n",
       "      <td>0</td>\n",
       "      <td>0</td>\n",
       "      <td>N</td>\n",
       "      <td>14</td>\n",
       "      <td>18</td>\n",
       "    </tr>\n",
       "    <tr>\n",
       "      <th>188962</th>\n",
       "      <td>1</td>\n",
       "      <td>-122.406179</td>\n",
       "      <td>47.580149</td>\n",
       "      <td>212938</td>\n",
       "      <td>320562</td>\n",
       "      <td>322062</td>\n",
       "      <td>3752926</td>\n",
       "      <td>Matched</td>\n",
       "      <td>Block</td>\n",
       "      <td>NaN</td>\n",
       "      <td>...</td>\n",
       "      <td>NaN</td>\n",
       "      <td>NaN</td>\n",
       "      <td>NaN</td>\n",
       "      <td>32</td>\n",
       "      <td>One parked--one moving</td>\n",
       "      <td>0</td>\n",
       "      <td>0</td>\n",
       "      <td>Y</td>\n",
       "      <td>1</td>\n",
       "      <td>6</td>\n",
       "    </tr>\n",
       "    <tr>\n",
       "      <th>45843</th>\n",
       "      <td>1</td>\n",
       "      <td>-122.329092</td>\n",
       "      <td>47.652479</td>\n",
       "      <td>51340</td>\n",
       "      <td>64953</td>\n",
       "      <td>64953</td>\n",
       "      <td>2795553</td>\n",
       "      <td>Matched</td>\n",
       "      <td>Intersection</td>\n",
       "      <td>27263.0</td>\n",
       "      <td>...</td>\n",
       "      <td>NaN</td>\n",
       "      <td>7147006.0</td>\n",
       "      <td>NaN</td>\n",
       "      <td>10</td>\n",
       "      <td>Entering at angle</td>\n",
       "      <td>0</td>\n",
       "      <td>0</td>\n",
       "      <td>N</td>\n",
       "      <td>11</td>\n",
       "      <td>14</td>\n",
       "    </tr>\n",
       "    <tr>\n",
       "      <th>...</th>\n",
       "      <td>...</td>\n",
       "      <td>...</td>\n",
       "      <td>...</td>\n",
       "      <td>...</td>\n",
       "      <td>...</td>\n",
       "      <td>...</td>\n",
       "      <td>...</td>\n",
       "      <td>...</td>\n",
       "      <td>...</td>\n",
       "      <td>...</td>\n",
       "      <td>...</td>\n",
       "      <td>...</td>\n",
       "      <td>...</td>\n",
       "      <td>...</td>\n",
       "      <td>...</td>\n",
       "      <td>...</td>\n",
       "      <td>...</td>\n",
       "      <td>...</td>\n",
       "      <td>...</td>\n",
       "      <td>...</td>\n",
       "      <td>...</td>\n",
       "    </tr>\n",
       "    <tr>\n",
       "      <th>194663</th>\n",
       "      <td>2</td>\n",
       "      <td>-122.299160</td>\n",
       "      <td>47.579673</td>\n",
       "      <td>219536</td>\n",
       "      <td>309335</td>\n",
       "      <td>310615</td>\n",
       "      <td>E880807</td>\n",
       "      <td>Matched</td>\n",
       "      <td>Block</td>\n",
       "      <td>NaN</td>\n",
       "      <td>...</td>\n",
       "      <td>NaN</td>\n",
       "      <td>NaN</td>\n",
       "      <td>NaN</td>\n",
       "      <td>10</td>\n",
       "      <td>Entering at angle</td>\n",
       "      <td>0</td>\n",
       "      <td>0</td>\n",
       "      <td>N</td>\n",
       "      <td>17</td>\n",
       "      <td>6</td>\n",
       "    </tr>\n",
       "    <tr>\n",
       "      <th>194666</th>\n",
       "      <td>2</td>\n",
       "      <td>-122.344569</td>\n",
       "      <td>47.694547</td>\n",
       "      <td>219539</td>\n",
       "      <td>309170</td>\n",
       "      <td>310450</td>\n",
       "      <td>E879712</td>\n",
       "      <td>Matched</td>\n",
       "      <td>Block</td>\n",
       "      <td>NaN</td>\n",
       "      <td>...</td>\n",
       "      <td>NaN</td>\n",
       "      <td>NaN</td>\n",
       "      <td>NaN</td>\n",
       "      <td>10</td>\n",
       "      <td>Entering at angle</td>\n",
       "      <td>0</td>\n",
       "      <td>0</td>\n",
       "      <td>N</td>\n",
       "      <td>7</td>\n",
       "      <td>18</td>\n",
       "    </tr>\n",
       "    <tr>\n",
       "      <th>194668</th>\n",
       "      <td>2</td>\n",
       "      <td>-122.290826</td>\n",
       "      <td>47.565408</td>\n",
       "      <td>219543</td>\n",
       "      <td>309534</td>\n",
       "      <td>310814</td>\n",
       "      <td>E871089</td>\n",
       "      <td>Matched</td>\n",
       "      <td>Block</td>\n",
       "      <td>NaN</td>\n",
       "      <td>...</td>\n",
       "      <td>NaN</td>\n",
       "      <td>NaN</td>\n",
       "      <td>NaN</td>\n",
       "      <td>24</td>\n",
       "      <td>From opposite direction - both moving - head-on</td>\n",
       "      <td>0</td>\n",
       "      <td>0</td>\n",
       "      <td>N</td>\n",
       "      <td>19</td>\n",
       "      <td>5</td>\n",
       "    </tr>\n",
       "    <tr>\n",
       "      <th>194670</th>\n",
       "      <td>2</td>\n",
       "      <td>-122.306689</td>\n",
       "      <td>47.683047</td>\n",
       "      <td>219545</td>\n",
       "      <td>311280</td>\n",
       "      <td>312640</td>\n",
       "      <td>3809984</td>\n",
       "      <td>Matched</td>\n",
       "      <td>Intersection</td>\n",
       "      <td>24760.0</td>\n",
       "      <td>...</td>\n",
       "      <td>NaN</td>\n",
       "      <td>NaN</td>\n",
       "      <td>NaN</td>\n",
       "      <td>28</td>\n",
       "      <td>From opposite direction - one left turn - one ...</td>\n",
       "      <td>0</td>\n",
       "      <td>0</td>\n",
       "      <td>N</td>\n",
       "      <td>16</td>\n",
       "      <td>17</td>\n",
       "    </tr>\n",
       "    <tr>\n",
       "      <th>194671</th>\n",
       "      <td>2</td>\n",
       "      <td>-122.355317</td>\n",
       "      <td>47.678734</td>\n",
       "      <td>219546</td>\n",
       "      <td>309514</td>\n",
       "      <td>310794</td>\n",
       "      <td>3810083</td>\n",
       "      <td>Matched</td>\n",
       "      <td>Intersection</td>\n",
       "      <td>24349.0</td>\n",
       "      <td>...</td>\n",
       "      <td>NaN</td>\n",
       "      <td>NaN</td>\n",
       "      <td>NaN</td>\n",
       "      <td>5</td>\n",
       "      <td>Vehicle Strikes Pedalcyclist</td>\n",
       "      <td>4308</td>\n",
       "      <td>0</td>\n",
       "      <td>N</td>\n",
       "      <td>4</td>\n",
       "      <td>17</td>\n",
       "    </tr>\n",
       "  </tbody>\n",
       "</table>\n",
       "<p>116376 rows × 40 columns</p>\n",
       "</div>"
      ],
      "text/plain": [
       "        SEVERITYCODE           X          Y  OBJECTID  INCKEY  COLDETKEY  \\\n",
       "166116             1 -122.334288  47.624694    185364  240780     241220   \n",
       "632                1 -122.328079  47.604161       715  320881     322381   \n",
       "122470             1 -122.317595  47.698108    136093  156099     156119   \n",
       "188962             1 -122.406179  47.580149    212938  320562     322062   \n",
       "45843              1 -122.329092  47.652479     51340   64953      64953   \n",
       "...              ...         ...        ...       ...     ...        ...   \n",
       "194663             2 -122.299160  47.579673    219536  309335     310615   \n",
       "194666             2 -122.344569  47.694547    219539  309170     310450   \n",
       "194668             2 -122.290826  47.565408    219543  309534     310814   \n",
       "194670             2 -122.306689  47.683047    219545  311280     312640   \n",
       "194671             2 -122.355317  47.678734    219546  309514     310794   \n",
       "\n",
       "       REPORTNO   STATUS      ADDRTYPE   INTKEY  ... PEDROWNOTGRNT SDOTCOLNUM  \\\n",
       "166116  3703903  Matched  Intersection  28760.0  ...           NaN        NaN   \n",
       "632     E920857  Matched  Intersection  29973.0  ...           NaN        NaN   \n",
       "122470  3645828  Matched         Block      NaN  ...           NaN        NaN   \n",
       "188962  3752926  Matched         Block      NaN  ...           NaN        NaN   \n",
       "45843   2795553  Matched  Intersection  27263.0  ...           NaN  7147006.0   \n",
       "...         ...      ...           ...      ...  ...           ...        ...   \n",
       "194663  E880807  Matched         Block      NaN  ...           NaN        NaN   \n",
       "194666  E879712  Matched         Block      NaN  ...           NaN        NaN   \n",
       "194668  E871089  Matched         Block      NaN  ...           NaN        NaN   \n",
       "194670  3809984  Matched  Intersection  24760.0  ...           NaN        NaN   \n",
       "194671  3810083  Matched  Intersection  24349.0  ...           NaN        NaN   \n",
       "\n",
       "       SPEEDING  ST_COLCODE  \\\n",
       "166116      NaN          14   \n",
       "632         NaN          14   \n",
       "122470      NaN          32   \n",
       "188962      NaN          32   \n",
       "45843       NaN          10   \n",
       "...         ...         ...   \n",
       "194663      NaN          10   \n",
       "194666      NaN          10   \n",
       "194668      NaN          24   \n",
       "194670      NaN          28   \n",
       "194671      NaN           5   \n",
       "\n",
       "                                               ST_COLDESC SEGLANEKEY  \\\n",
       "166116  From same direction - both going straight - on...          0   \n",
       "632     From same direction - both going straight - on...          0   \n",
       "122470                             One parked--one moving          0   \n",
       "188962                             One parked--one moving          0   \n",
       "45843                                   Entering at angle          0   \n",
       "...                                                   ...        ...   \n",
       "194663                                  Entering at angle          0   \n",
       "194666                                  Entering at angle          0   \n",
       "194668    From opposite direction - both moving - head-on          0   \n",
       "194670  From opposite direction - one left turn - one ...          0   \n",
       "194671                       Vehicle Strikes Pedalcyclist       4308   \n",
       "\n",
       "        CROSSWALKKEY  HITPARKEDCAR  XBucket  YBucket  \n",
       "166116             0             N        9       12  \n",
       "632                0             N       11        8  \n",
       "122470             0             N       14       18  \n",
       "188962             0             Y        1        6  \n",
       "45843              0             N       11       14  \n",
       "...              ...           ...      ...      ...  \n",
       "194663             0             N       17        6  \n",
       "194666             0             N        7       18  \n",
       "194668             0             N       19        5  \n",
       "194670             0             N       16       17  \n",
       "194671             0             N        4       17  \n",
       "\n",
       "[116376 rows x 40 columns]"
      ]
     },
     "execution_count": 15,
     "metadata": {},
     "output_type": "execute_result"
    }
   ],
   "source": [
    "# Bucket X ad Y\n",
    "\n",
    "bin_labels_20 = ['1','2','3','4','5','6','7','8','9','10',\n",
    "                '11','12','13','14','15','16','17','18','19','20']\n",
    "\n",
    "results, bin_edges = pd.qcut(df_n['X'],\n",
    "                            q=[0,0.05, 0.1, 0.15, 0.2, 0.25, 0.3, 0.35, 0.4, 0.45, 0.5,\n",
    "                               0.55, 0.6, 0.65, 0.7, 0.75, 0.8, 0.85, 0.9, 0.95, 1],\n",
    "                            labels=bin_labels_20,\n",
    "                            retbins=True)\n",
    "\n",
    "results_table = pd.DataFrame(zip(bin_edges, bin_labels_20),\n",
    "                            columns=['Threshold', 'Tier'])\n",
    "\n",
    "bins = results_table.Threshold\n",
    "\n",
    "names = ['1','2','3','4','5','6','7','8','9','10',\n",
    "               '11','12','13','14','15','16','17','18','19']\n",
    "\n",
    "df_n['XBucket'] = pd.cut(df_n['X'], bins, labels=names)\n",
    "\n",
    "##\n",
    "\n",
    "results, bin_edges2 = pd.qcut(df_n['Y'],\n",
    "                            q=[0,0.05, 0.1, 0.15, 0.2, 0.25, 0.3, 0.35, 0.4, 0.45, 0.5,\n",
    "                               0.55, 0.6, 0.65, 0.7, 0.75, 0.8, 0.85, 0.9, 0.95, 1],\n",
    "                            labels=bin_labels_20,\n",
    "                            retbins=True)\n",
    "\n",
    "results_table2 = pd.DataFrame(zip(bin_edges2, bin_labels_20),\n",
    "                            columns=['Threshold', 'Tier'])\n",
    "\n",
    "bins2 = results_table2.Threshold\n",
    "\n",
    "names = ['1','2','3','4','5','6','7','8','9','10',\n",
    "               '11','12','13','14','15','16','17','18','19']\n",
    "\n",
    "df_n['YBucket'] = pd.cut(df_n['Y'], bins2, labels=names)\n",
    "\n",
    "df_n"
   ]
  },
  {
   "cell_type": "markdown",
   "metadata": {},
   "source": [
    "We now need to truncate the data in order to only use the columns we will use to model"
   ]
  },
  {
   "cell_type": "code",
   "execution_count": 16,
   "metadata": {},
   "outputs": [
    {
     "data": {
      "text/html": [
       "<div>\n",
       "<style scoped>\n",
       "    .dataframe tbody tr th:only-of-type {\n",
       "        vertical-align: middle;\n",
       "    }\n",
       "\n",
       "    .dataframe tbody tr th {\n",
       "        vertical-align: top;\n",
       "    }\n",
       "\n",
       "    .dataframe thead th {\n",
       "        text-align: right;\n",
       "    }\n",
       "</style>\n",
       "<table border=\"1\" class=\"dataframe\">\n",
       "  <thead>\n",
       "    <tr style=\"text-align: right;\">\n",
       "      <th></th>\n",
       "      <th>SEVERITYCODE</th>\n",
       "      <th>WEATHER</th>\n",
       "      <th>ROADCOND</th>\n",
       "      <th>LIGHTCOND</th>\n",
       "      <th>XBucket</th>\n",
       "      <th>YBucket</th>\n",
       "    </tr>\n",
       "  </thead>\n",
       "  <tbody>\n",
       "    <tr>\n",
       "      <th>166116</th>\n",
       "      <td>1</td>\n",
       "      <td>Raining</td>\n",
       "      <td>Wet</td>\n",
       "      <td>Dark - Street Lights On</td>\n",
       "      <td>9</td>\n",
       "      <td>12</td>\n",
       "    </tr>\n",
       "    <tr>\n",
       "      <th>632</th>\n",
       "      <td>1</td>\n",
       "      <td>Clear</td>\n",
       "      <td>Dry</td>\n",
       "      <td>Daylight</td>\n",
       "      <td>11</td>\n",
       "      <td>8</td>\n",
       "    </tr>\n",
       "    <tr>\n",
       "      <th>122470</th>\n",
       "      <td>1</td>\n",
       "      <td>Fog/Smog/Smoke</td>\n",
       "      <td>Dry</td>\n",
       "      <td>Dark - Street Lights On</td>\n",
       "      <td>14</td>\n",
       "      <td>18</td>\n",
       "    </tr>\n",
       "    <tr>\n",
       "      <th>188962</th>\n",
       "      <td>1</td>\n",
       "      <td>Clear</td>\n",
       "      <td>Dry</td>\n",
       "      <td>Daylight</td>\n",
       "      <td>1</td>\n",
       "      <td>6</td>\n",
       "    </tr>\n",
       "    <tr>\n",
       "      <th>45843</th>\n",
       "      <td>1</td>\n",
       "      <td>Clear</td>\n",
       "      <td>Dry</td>\n",
       "      <td>Daylight</td>\n",
       "      <td>11</td>\n",
       "      <td>14</td>\n",
       "    </tr>\n",
       "    <tr>\n",
       "      <th>...</th>\n",
       "      <td>...</td>\n",
       "      <td>...</td>\n",
       "      <td>...</td>\n",
       "      <td>...</td>\n",
       "      <td>...</td>\n",
       "      <td>...</td>\n",
       "    </tr>\n",
       "    <tr>\n",
       "      <th>194663</th>\n",
       "      <td>2</td>\n",
       "      <td>Raining</td>\n",
       "      <td>Wet</td>\n",
       "      <td>Daylight</td>\n",
       "      <td>17</td>\n",
       "      <td>6</td>\n",
       "    </tr>\n",
       "    <tr>\n",
       "      <th>194666</th>\n",
       "      <td>2</td>\n",
       "      <td>Clear</td>\n",
       "      <td>Wet</td>\n",
       "      <td>Daylight</td>\n",
       "      <td>7</td>\n",
       "      <td>18</td>\n",
       "    </tr>\n",
       "    <tr>\n",
       "      <th>194668</th>\n",
       "      <td>2</td>\n",
       "      <td>Clear</td>\n",
       "      <td>Dry</td>\n",
       "      <td>Daylight</td>\n",
       "      <td>19</td>\n",
       "      <td>5</td>\n",
       "    </tr>\n",
       "    <tr>\n",
       "      <th>194670</th>\n",
       "      <td>2</td>\n",
       "      <td>Clear</td>\n",
       "      <td>Dry</td>\n",
       "      <td>Daylight</td>\n",
       "      <td>16</td>\n",
       "      <td>17</td>\n",
       "    </tr>\n",
       "    <tr>\n",
       "      <th>194671</th>\n",
       "      <td>2</td>\n",
       "      <td>Clear</td>\n",
       "      <td>Dry</td>\n",
       "      <td>Dusk</td>\n",
       "      <td>4</td>\n",
       "      <td>17</td>\n",
       "    </tr>\n",
       "  </tbody>\n",
       "</table>\n",
       "<p>116376 rows × 6 columns</p>\n",
       "</div>"
      ],
      "text/plain": [
       "        SEVERITYCODE         WEATHER ROADCOND                LIGHTCOND  \\\n",
       "166116             1         Raining      Wet  Dark - Street Lights On   \n",
       "632                1           Clear      Dry                 Daylight   \n",
       "122470             1  Fog/Smog/Smoke      Dry  Dark - Street Lights On   \n",
       "188962             1           Clear      Dry                 Daylight   \n",
       "45843              1           Clear      Dry                 Daylight   \n",
       "...              ...             ...      ...                      ...   \n",
       "194663             2         Raining      Wet                 Daylight   \n",
       "194666             2           Clear      Wet                 Daylight   \n",
       "194668             2           Clear      Dry                 Daylight   \n",
       "194670             2           Clear      Dry                 Daylight   \n",
       "194671             2           Clear      Dry                     Dusk   \n",
       "\n",
       "       XBucket YBucket  \n",
       "166116       9      12  \n",
       "632         11       8  \n",
       "122470      14      18  \n",
       "188962       1       6  \n",
       "45843       11      14  \n",
       "...        ...     ...  \n",
       "194663      17       6  \n",
       "194666       7      18  \n",
       "194668      19       5  \n",
       "194670      16      17  \n",
       "194671       4      17  \n",
       "\n",
       "[116376 rows x 6 columns]"
      ]
     },
     "execution_count": 16,
     "metadata": {},
     "output_type": "execute_result"
    }
   ],
   "source": [
    "# Only keep relevant columns\n",
    "\n",
    "df_N=df_n[[\"SEVERITYCODE\",\"WEATHER\",\"ROADCOND\",\"LIGHTCOND\",\"XBucket\",\"YBucket\"]]\n",
    "df_N"
   ]
  },
  {
   "cell_type": "markdown",
   "metadata": {},
   "source": [
    "Next we need to encode the data in order to feed into the ML models"
   ]
  },
  {
   "cell_type": "code",
   "execution_count": 17,
   "metadata": {},
   "outputs": [
    {
     "name": "stdout",
     "output_type": "stream",
     "text": [
      "<class 'pandas.core.frame.DataFrame'>\n",
      "Int64Index: 116376 entries, 166116 to 194671\n",
      "Data columns (total 68 columns):\n",
      " #   Column                              Non-Null Count   Dtype\n",
      "---  ------                              --------------   -----\n",
      " 0   SEVERITYCODE                        116376 non-null  int64\n",
      " 1   ROADCOND_Dry                        116376 non-null  uint8\n",
      " 2   ROADCOND_Ice                        116376 non-null  uint8\n",
      " 3   ROADCOND_Oil                        116376 non-null  uint8\n",
      " 4   ROADCOND_Other                      116376 non-null  uint8\n",
      " 5   ROADCOND_Sand/Mud/Dirt              116376 non-null  uint8\n",
      " 6   ROADCOND_Snow/Slush                 116376 non-null  uint8\n",
      " 7   ROADCOND_Standing Water             116376 non-null  uint8\n",
      " 8   ROADCOND_Unknown                    116376 non-null  uint8\n",
      " 9   ROADCOND_Wet                        116376 non-null  uint8\n",
      " 10  WEATHER_Blowing Sand/Dirt           116376 non-null  uint8\n",
      " 11  WEATHER_Clear                       116376 non-null  uint8\n",
      " 12  WEATHER_Fog/Smog/Smoke              116376 non-null  uint8\n",
      " 13  WEATHER_Other                       116376 non-null  uint8\n",
      " 14  WEATHER_Overcast                    116376 non-null  uint8\n",
      " 15  WEATHER_Partly Cloudy               116376 non-null  uint8\n",
      " 16  WEATHER_Raining                     116376 non-null  uint8\n",
      " 17  WEATHER_Severe Crosswind            116376 non-null  uint8\n",
      " 18  WEATHER_Sleet/Hail/Freezing Rain    116376 non-null  uint8\n",
      " 19  WEATHER_Snowing                     116376 non-null  uint8\n",
      " 20  WEATHER_Unknown                     116376 non-null  uint8\n",
      " 21  LIGHTCOND_Dark - No Street Lights   116376 non-null  uint8\n",
      " 22  LIGHTCOND_Dark - Street Lights Off  116376 non-null  uint8\n",
      " 23  LIGHTCOND_Dark - Street Lights On   116376 non-null  uint8\n",
      " 24  LIGHTCOND_Dark - Unknown Lighting   116376 non-null  uint8\n",
      " 25  LIGHTCOND_Dawn                      116376 non-null  uint8\n",
      " 26  LIGHTCOND_Daylight                  116376 non-null  uint8\n",
      " 27  LIGHTCOND_Dusk                      116376 non-null  uint8\n",
      " 28  LIGHTCOND_Other                     116376 non-null  uint8\n",
      " 29  LIGHTCOND_Unknown                   116376 non-null  uint8\n",
      " 30  YBucket_1                           116376 non-null  uint8\n",
      " 31  YBucket_2                           116376 non-null  uint8\n",
      " 32  YBucket_3                           116376 non-null  uint8\n",
      " 33  YBucket_4                           116376 non-null  uint8\n",
      " 34  YBucket_5                           116376 non-null  uint8\n",
      " 35  YBucket_6                           116376 non-null  uint8\n",
      " 36  YBucket_7                           116376 non-null  uint8\n",
      " 37  YBucket_8                           116376 non-null  uint8\n",
      " 38  YBucket_9                           116376 non-null  uint8\n",
      " 39  YBucket_10                          116376 non-null  uint8\n",
      " 40  YBucket_11                          116376 non-null  uint8\n",
      " 41  YBucket_12                          116376 non-null  uint8\n",
      " 42  YBucket_13                          116376 non-null  uint8\n",
      " 43  YBucket_14                          116376 non-null  uint8\n",
      " 44  YBucket_15                          116376 non-null  uint8\n",
      " 45  YBucket_16                          116376 non-null  uint8\n",
      " 46  YBucket_17                          116376 non-null  uint8\n",
      " 47  YBucket_18                          116376 non-null  uint8\n",
      " 48  YBucket_19                          116376 non-null  uint8\n",
      " 49  XBucket_1                           116376 non-null  uint8\n",
      " 50  XBucket_2                           116376 non-null  uint8\n",
      " 51  XBucket_3                           116376 non-null  uint8\n",
      " 52  XBucket_4                           116376 non-null  uint8\n",
      " 53  XBucket_5                           116376 non-null  uint8\n",
      " 54  XBucket_6                           116376 non-null  uint8\n",
      " 55  XBucket_7                           116376 non-null  uint8\n",
      " 56  XBucket_8                           116376 non-null  uint8\n",
      " 57  XBucket_9                           116376 non-null  uint8\n",
      " 58  XBucket_10                          116376 non-null  uint8\n",
      " 59  XBucket_11                          116376 non-null  uint8\n",
      " 60  XBucket_12                          116376 non-null  uint8\n",
      " 61  XBucket_13                          116376 non-null  uint8\n",
      " 62  XBucket_14                          116376 non-null  uint8\n",
      " 63  XBucket_15                          116376 non-null  uint8\n",
      " 64  XBucket_16                          116376 non-null  uint8\n",
      " 65  XBucket_17                          116376 non-null  uint8\n",
      " 66  XBucket_18                          116376 non-null  uint8\n",
      " 67  XBucket_19                          116376 non-null  uint8\n",
      "dtypes: int64(1), uint8(67)\n",
      "memory usage: 9.2 MB\n"
     ]
    }
   ],
   "source": [
    "#Encode the attributes\n",
    "\n",
    "cl = {\"WEATHER\",\"ROADCOND\",\"LIGHTCOND\",\"XBucket\", \"YBucket\"}\n",
    "\n",
    "df_T = pd.get_dummies(data=df_N,columns=cl,prefix=cl)\n",
    "\n",
    "df_T.info()"
   ]
  },
  {
   "cell_type": "markdown",
   "metadata": {},
   "source": [
    "## ML Models"
   ]
  },
  {
   "cell_type": "markdown",
   "metadata": {},
   "source": [
    "First we need to split the data from target (Y) SEVERITYCODE and other fields (X)"
   ]
  },
  {
   "cell_type": "code",
   "execution_count": 18,
   "metadata": {},
   "outputs": [],
   "source": [
    "X = df_T.drop([\"SEVERITYCODE\"],axis=1)\n",
    "y = df_T[\"SEVERITYCODE\"]"
   ]
  },
  {
   "cell_type": "markdown",
   "metadata": {},
   "source": [
    "### Logistic Regression"
   ]
  },
  {
   "cell_type": "code",
   "execution_count": 36,
   "metadata": {},
   "outputs": [
    {
     "name": "stdout",
     "output_type": "stream",
     "text": [
      "              precision    recall  f1-score   support\n",
      "\n",
      "           1       0.63      0.33      0.43     14510\n",
      "           2       0.55      0.81      0.65     14584\n",
      "\n",
      "   micro avg       0.57      0.57      0.57     29094\n",
      "   macro avg       0.59      0.57      0.54     29094\n",
      "weighted avg       0.59      0.57      0.54     29094\n",
      "\n",
      "0.5696707224857359\n"
     ]
    }
   ],
   "source": [
    "from sklearn.linear_model import LogisticRegression\n",
    "from sklearn.model_selection import train_test_split\n",
    "from sklearn.metrics import classification_report\n",
    "from sklearn.metrics import jaccard_similarity_score\n",
    "\n",
    "LR = LogisticRegression(max_iter=10000000, C=9, solver=\"liblinear\")\n",
    "\n",
    "X_train, X_test, y_train, y_test = train_test_split(X,y,test_size=0.25)\n",
    "\n",
    "LR.fit(X_train,y_train)\n",
    "\n",
    "\n",
    "y_pred = LR.predict(X_test) \n",
    "print(classification_report(y_test, y_pred))\n",
    "print(jaccard_similarity_score(y_test,y_pred))"
   ]
  },
  {
   "cell_type": "markdown",
   "metadata": {},
   "source": [
    "## Random Forest"
   ]
  },
  {
   "cell_type": "code",
   "execution_count": 38,
   "metadata": {},
   "outputs": [
    {
     "name": "stdout",
     "output_type": "stream",
     "text": [
      "              precision    recall  f1-score   support\n",
      "\n",
      "           1       0.71      0.23      0.35     14510\n",
      "           2       0.54      0.91      0.68     14584\n",
      "\n",
      "   micro avg       0.57      0.57      0.57     29094\n",
      "   macro avg       0.62      0.57      0.51     29094\n",
      "weighted avg       0.62      0.57      0.51     29094\n",
      "\n",
      "0.5684333539561421\n"
     ]
    }
   ],
   "source": [
    "from sklearn.ensemble import RandomForestClassifier\n",
    "\n",
    "random_forest = RandomForestClassifier(n_estimators=100, max_depth=8, random_state=0)\n",
    "\n",
    "random_forest.fit(X_train,y_train)\n",
    "\n",
    "y_pred_2 = random_forest.predict(X_test) \n",
    "\n",
    "print(classification_report(y_test, y_pred_2))\n",
    "print(jaccard_similarity_score(y_test,y_pred_2))"
   ]
  },
  {
   "cell_type": "markdown",
   "metadata": {},
   "source": [
    "## Decision Tree"
   ]
  },
  {
   "cell_type": "code",
   "execution_count": 39,
   "metadata": {},
   "outputs": [
    {
     "name": "stdout",
     "output_type": "stream",
     "text": [
      "              precision    recall  f1-score   support\n",
      "\n",
      "           1       0.67      0.24      0.35     14510\n",
      "           2       0.54      0.88      0.67     14584\n",
      "\n",
      "   micro avg       0.56      0.56      0.56     29094\n",
      "   macro avg       0.60      0.56      0.51     29094\n",
      "weighted avg       0.60      0.56      0.51     29094\n",
      "\n",
      "0.5611122568227126\n"
     ]
    }
   ],
   "source": [
    "from sklearn.tree import DecisionTreeClassifier \n",
    "from sklearn.model_selection import  cross_val_score\n",
    "\n",
    "DT = DecisionTreeClassifier( max_depth=7)\n",
    "\n",
    "DT.fit(X_train,y_train)\n",
    "\n",
    "y_pred_3 = DT.predict(X_test) \n",
    "\n",
    "\n",
    "print(classification_report(y_test, y_pred_3))\n",
    "print(jaccard_similarity_score(y_test,y_pred_3))"
   ]
  },
  {
   "cell_type": "markdown",
   "metadata": {},
   "source": [
    "## KNN"
   ]
  },
  {
   "cell_type": "code",
   "execution_count": 41,
   "metadata": {},
   "outputs": [
    {
     "name": "stdout",
     "output_type": "stream",
     "text": [
      "              precision    recall  f1-score   support\n",
      "\n",
      "           1       0.56      0.49      0.52     14510\n",
      "           2       0.55      0.62      0.58     14584\n",
      "\n",
      "   micro avg       0.55      0.55      0.55     29094\n",
      "   macro avg       0.56      0.55      0.55     29094\n",
      "weighted avg       0.56      0.55      0.55     29094\n",
      "\n",
      "0.5542723585619028\n"
     ]
    }
   ],
   "source": [
    "from sklearn.neighbors import KNeighborsClassifier\n",
    "\n",
    "k=21\n",
    "\n",
    "knn=KNeighborsClassifier(n_neighbors=k).fit(X_train,y_train)\n",
    "\n",
    "y_pred_4=knn.predict(X_test)\n",
    "\n",
    "print(classification_report(y_test, y_pred_4))\n",
    "print(jaccard_similarity_score(y_test,y_pred_4))"
   ]
  },
  {
   "cell_type": "markdown",
   "metadata": {},
   "source": [
    "## Gradient Boosting"
   ]
  },
  {
   "cell_type": "code",
   "execution_count": 45,
   "metadata": {},
   "outputs": [
    {
     "name": "stdout",
     "output_type": "stream",
     "text": [
      "              precision    recall  f1-score   support\n",
      "\n",
      "           1       0.64      0.33      0.43     14510\n",
      "           2       0.55      0.82      0.66     14584\n",
      "\n",
      "   micro avg       0.57      0.57      0.57     29094\n",
      "   macro avg       0.59      0.57      0.54     29094\n",
      "weighted avg       0.59      0.57      0.54     29094\n",
      "\n",
      "0.5720767168488348\n"
     ]
    }
   ],
   "source": [
    "from sklearn.ensemble import GradientBoostingClassifier\n",
    "\n",
    "GB = GradientBoostingClassifier(random_state=0)\n",
    "GB.fit(X_train, y_train)\n",
    "GradientBoostingClassifier(random_state=0)\n",
    "\n",
    "y_pred_5 = GB.predict(X_test) \n",
    "\n",
    "print(classification_report(y_test, y_pred_5))\n",
    "print(jaccard_similarity_score(y_test,y_pred_5))"
   ]
  },
  {
   "cell_type": "markdown",
   "metadata": {},
   "source": [
    "## Model Evaluation"
   ]
  },
  {
   "cell_type": "code",
   "execution_count": 51,
   "metadata": {},
   "outputs": [
    {
     "name": "stdout",
     "output_type": "stream",
     "text": [
      "          Logistic Regression  Random Forest  Decision Tree  \\\n",
      "Accuracy             0.569671       0.568433       0.561112   \n",
      "Jaccard              0.569671       0.568433       0.561112   \n",
      "F1                   0.542681       0.512100       0.508918   \n",
      "\n",
      "          K Nearest Neighbours  Gradient Boosting  \n",
      "Accuracy              0.554272           0.572077  \n",
      "Jaccard               0.554272           0.572077  \n",
      "F1                    0.508918           0.508918  \n"
     ]
    }
   ],
   "source": [
    "from sklearn.metrics import accuracy_score, f1_score\n",
    "\n",
    "#Logistic Regression\n",
    "\n",
    "LRA=accuracy_score(y_test, y_pred)\n",
    "LRJ=jaccard_similarity_score(y_test,y_pred)\n",
    "LRF=f1_score(y_test,y_pred, average=\"macro\")\n",
    "\n",
    "#Random Forest\n",
    "\n",
    "RFA=accuracy_score(y_test, y_pred_2)\n",
    "RFJ=jaccard_similarity_score(y_test,y_pred_2)\n",
    "RFF=f1_score(y_test,y_pred_2, average=\"macro\")\n",
    "\n",
    "#Decision Tree\n",
    "\n",
    "DTA=accuracy_score(y_test, y_pred_3)\n",
    "DTJ=jaccard_similarity_score(y_test,y_pred_3)\n",
    "DTF=f1_score(y_test,y_pred_3, average=\"macro\")\n",
    "\n",
    "#K Nearest Neigbours\n",
    "\n",
    "KNA=accuracy_score(y_test, y_pred_4)\n",
    "KNJ=jaccard_similarity_score(y_test,y_pred_4)\n",
    "KNF=f1_score(y_test,y_pred_3, average=\"macro\")\n",
    "\n",
    "#Gradient Boosting\n",
    "\n",
    "GBA=accuracy_score(y_test, y_pred_5)\n",
    "GBJ=jaccard_similarity_score(y_test,y_pred_5)\n",
    "GBF=f1_score(y_test,y_pred_3, average=\"macro\")\n",
    "\n",
    "\n",
    "\n",
    "cars = {'Logistic Regression': [LRA,LRJ,LRF],\n",
    "        'Random Forest': [RFA,RFJ,RFF],\n",
    "        'Decision Tree': [DTA,DTJ,DTF],\n",
    "        'K Nearest Neighbours': [KNA,KNJ,KNF],\n",
    "        'Gradient Boosting': [GBA,GBJ,GBF],}\n",
    "\n",
    "df_t = pd.DataFrame(cars, columns = ['Logistic Regression', 'Random Forest', 'Decision Tree','K Nearest Neighbours', 'Gradient Boosting'],\n",
    "                    index=['Accuracy','Jaccard','F1'])\n",
    "\n",
    "print (df_t)"
   ]
  },
  {
   "cell_type": "markdown",
   "metadata": {},
   "source": [
    "Based on the above table, Gradient Boosting is the best model to predict car accident severity and K Nearest Neighbours is the worst.  However, they are all similar and are not that accurate relative to other  models (slightly higher than 0.50)."
   ]
  },
  {
   "cell_type": "markdown",
   "metadata": {},
   "source": [
    "## Discussion "
   ]
  },
  {
   "cell_type": "markdown",
   "metadata": {},
   "source": [
    "In order to feed the data through five ML models (Logistic Regression, Random Forest, Decision Tree, K Nearest Neighbours and Gradient Boosting) we had to convert data types, inpute missing values and encode the data.   Additionally we had to balance the data.\n",
    "\n",
    "Accuracy, Jaccard and F1 Score were used to analyses the results of the ML models.  Each model had similar metrics but Gradient boosting was the strongest.  Choosing different k, max depth and hyperparameter C values helped to improve the predictive power of the models.\n",
    "\n"
   ]
  },
  {
   "cell_type": "markdown",
   "metadata": {},
   "source": [
    "## Conclusion"
   ]
  },
  {
   "cell_type": "markdown",
   "metadata": {},
   "source": [
    "It appears that weather conditions and location can be used to predict the severity of the crash (property or injury); however, the simple KDE plot would be the most useful for the authorities.  It can allow the planning and implementation of traffic calming measures, enhanced police patrols, warning signs and potentially the relocation of a ambulance station.\n",
    "\n",
    "If we were completing this again we would seek further data points which include severitycodes 3 and 4.   Additionally the location of traffic lights etc would be useful to see if they have an impact on crashes."
   ]
  },
  {
   "cell_type": "code",
   "execution_count": null,
   "metadata": {},
   "outputs": [],
   "source": []
  }
 ],
 "metadata": {
  "kernelspec": {
   "display_name": "Python 3",
   "language": "python",
   "name": "python3"
  },
  "language_info": {
   "codemirror_mode": {
    "name": "ipython",
    "version": 3
   },
   "file_extension": ".py",
   "mimetype": "text/x-python",
   "name": "python",
   "nbconvert_exporter": "python",
   "pygments_lexer": "ipython3",
   "version": "3.7.1"
  }
 },
 "nbformat": 4,
 "nbformat_minor": 2
}
